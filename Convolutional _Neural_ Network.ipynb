{
 "cells": [
  {
   "cell_type": "markdown",
   "metadata": {},
   "source": [
    "## Convolutional Neural Network (CNN)"
   ]
  },
  {
   "cell_type": "markdown",
   "metadata": {},
   "source": [
    "### Import the libraries"
   ]
  },
  {
   "cell_type": "code",
   "execution_count": 1,
   "metadata": {},
   "outputs": [
    {
     "name": "stderr",
     "output_type": "stream",
     "text": [
      "Using TensorFlow backend.\n"
     ]
    }
   ],
   "source": [
    "import tensorflow as tf\n",
    "from keras.preprocessing.image import ImageDataGenerator"
   ]
  },
  {
   "cell_type": "code",
   "execution_count": 2,
   "metadata": {},
   "outputs": [
    {
     "data": {
      "text/plain": [
       "'2.1.0'"
      ]
     },
     "execution_count": 2,
     "metadata": {},
     "output_type": "execute_result"
    }
   ],
   "source": [
    "tf.__version__"
   ]
  },
  {
   "cell_type": "markdown",
   "metadata": {},
   "source": [
    "##  Part1 = Processing  Data\n",
    "\n",
    "\n",
    "**Processing the Training set**"
   ]
  },
  {
   "cell_type": "code",
   "execution_count": 3,
   "metadata": {},
   "outputs": [
    {
     "name": "stdout",
     "output_type": "stream",
     "text": [
      "Found 8000 images belonging to 2 classes.\n"
     ]
    }
   ],
   "source": [
    "train_datagen = ImageDataGenerator(rescale = 1./255,\n",
    "                                   shear_range = 0.2,\n",
    "                                   zoom_range = 0.2,\n",
    "                                   horizontal_flip = True)\n",
    "training_set = train_datagen.flow_from_directory('dataset/training_set',\n",
    "                                                 target_size = (64, 64),\n",
    "                                                 batch_size = 32,\n",
    "                                                 class_mode = 'binary')"
   ]
  },
  {
   "cell_type": "markdown",
   "metadata": {},
   "source": [
    "### Processing  the Test set"
   ]
  },
  {
   "cell_type": "code",
   "execution_count": 4,
   "metadata": {},
   "outputs": [
    {
     "name": "stdout",
     "output_type": "stream",
     "text": [
      "Found 2000 images belonging to 2 classes.\n"
     ]
    }
   ],
   "source": [
    "test_datagen = ImageDataGenerator(rescale = 1./255)\n",
    "test_set = test_datagen.flow_from_directory('dataset/test_set',\n",
    "                                            target_size = (64, 64),\n",
    "                                            batch_size = 32,\n",
    "                                            class_mode = 'binary')"
   ]
  },
  {
   "cell_type": "markdown",
   "metadata": {},
   "source": [
    "### Part2 - Building the  CNN"
   ]
  },
  {
   "cell_type": "markdown",
   "metadata": {},
   "source": [
    "Initialising the CNN "
   ]
  },
  {
   "cell_type": "code",
   "execution_count": 5,
   "metadata": {},
   "outputs": [],
   "source": [
    "cnn = tf.keras.models.Sequential()"
   ]
  },
  {
   "cell_type": "markdown",
   "metadata": {},
   "source": [
    "### Step1 = Convolution\n",
    "\n",
    "**Adding layers**"
   ]
  },
  {
   "cell_type": "code",
   "execution_count": 6,
   "metadata": {},
   "outputs": [],
   "source": [
    "cnn.add(tf.keras.layers.Conv2D(filters = 32, kernel_size = 3, activation = \"relu\", input_shape = [64, 64, 3]))"
   ]
  },
  {
   "cell_type": "markdown",
   "metadata": {},
   "source": [
    "### Step2 = Polling"
   ]
  },
  {
   "cell_type": "code",
   "execution_count": 7,
   "metadata": {},
   "outputs": [],
   "source": [
    "cnn.add(tf.keras.layers.MaxPool2D(pool_size = 2, strides = 2))"
   ]
  },
  {
   "cell_type": "markdown",
   "metadata": {},
   "source": [
    "### Adding the second Convolutional layrer"
   ]
  },
  {
   "cell_type": "code",
   "execution_count": 8,
   "metadata": {},
   "outputs": [],
   "source": [
    "cnn.add(tf.keras.layers.Conv2D(filters = 32, kernel_size = 3, activation = \"relu\"))\n",
    "cnn.add(tf.keras.layers.MaxPool2D(pool_size = 2, strides = 2))"
   ]
  },
  {
   "cell_type": "markdown",
   "metadata": {},
   "source": [
    "### Step3 = Flattening"
   ]
  },
  {
   "cell_type": "code",
   "execution_count": 9,
   "metadata": {},
   "outputs": [],
   "source": [
    "cnn.add(tf.keras.layers.Flatten())"
   ]
  },
  {
   "cell_type": "markdown",
   "metadata": {},
   "source": [
    "### Step4 = Full Connection"
   ]
  },
  {
   "cell_type": "code",
   "execution_count": 10,
   "metadata": {},
   "outputs": [],
   "source": [
    "cnn.add(tf.keras.layers.Dense(units = 128, activation = \"relu\"))"
   ]
  },
  {
   "cell_type": "markdown",
   "metadata": {},
   "source": [
    "### Step5 = Outlayer"
   ]
  },
  {
   "cell_type": "code",
   "execution_count": 11,
   "metadata": {},
   "outputs": [],
   "source": [
    "cnn.add(tf.keras.layers.Dense(units=1, activation='sigmoid'))"
   ]
  },
  {
   "cell_type": "markdown",
   "metadata": {},
   "source": [
    "### Part3 = Training the CNN\n",
    "\n",
    "**Compile the CNN**"
   ]
  },
  {
   "cell_type": "code",
   "execution_count": 12,
   "metadata": {},
   "outputs": [],
   "source": [
    "cnn.compile(optimizer = \"adam\", loss = \"binary_crossentropy\", metrics = [\"accuracy\"])"
   ]
  },
  {
   "cell_type": "markdown",
   "metadata": {},
   "source": [
    "### Train the CNN on the Training set and evaluate it on the Test"
   ]
  },
  {
   "cell_type": "code",
   "execution_count": 13,
   "metadata": {},
   "outputs": [
    {
     "name": "stdout",
     "output_type": "stream",
     "text": [
      "WARNING:tensorflow:sample_weight modes were coerced from\n",
      "  ...\n",
      "    to  \n",
      "  ['...']\n",
      "WARNING:tensorflow:sample_weight modes were coerced from\n",
      "  ...\n",
      "    to  \n",
      "  ['...']\n",
      "Train for 250 steps, validate for 63 steps\n",
      "Epoch 1/25\n",
      "250/250 [==============================] - 155s 618ms/step - loss: 0.6571 - accuracy: 0.6033 - val_loss: 0.5954 - val_accuracy: 0.6905\n",
      "Epoch 2/25\n",
      "250/250 [==============================] - 119s 475ms/step - loss: 0.6055 - accuracy: 0.6752 - val_loss: 0.5715 - val_accuracy: 0.7055\n",
      "Epoch 3/25\n",
      "250/250 [==============================] - 459s 2s/step - loss: 0.5625 - accuracy: 0.7069 - val_loss: 0.5828 - val_accuracy: 0.6915\n",
      "Epoch 4/25\n",
      "250/250 [==============================] - 344s 1s/step - loss: 0.5279 - accuracy: 0.7408 - val_loss: 0.4902 - val_accuracy: 0.7600\n",
      "Epoch 5/25\n",
      "250/250 [==============================] - 180s 720ms/step - loss: 0.4913 - accuracy: 0.7614 - val_loss: 0.4896 - val_accuracy: 0.7680\n",
      "Epoch 6/25\n",
      "250/250 [==============================] - 225s 902ms/step - loss: 0.4862 - accuracy: 0.7634 - val_loss: 0.4918 - val_accuracy: 0.7580\n",
      "Epoch 7/25\n",
      "250/250 [==============================] - 1090s 4s/step - loss: 0.4590 - accuracy: 0.7854 - val_loss: 0.4875 - val_accuracy: 0.7690\n",
      "Epoch 8/25\n",
      "250/250 [==============================] - 323s 1s/step - loss: 0.4512 - accuracy: 0.7850 - val_loss: 0.4633 - val_accuracy: 0.7915\n",
      "Epoch 9/25\n",
      "250/250 [==============================] - 94s 375ms/step - loss: 0.4356 - accuracy: 0.7945 - val_loss: 0.4540 - val_accuracy: 0.7900\n",
      "Epoch 10/25\n",
      "250/250 [==============================] - 121s 486ms/step - loss: 0.4149 - accuracy: 0.8099 - val_loss: 0.4549 - val_accuracy: 0.7895\n",
      "Epoch 11/25\n",
      "250/250 [==============================] - 78s 312ms/step - loss: 0.4078 - accuracy: 0.8099 - val_loss: 0.4705 - val_accuracy: 0.7825\n",
      "Epoch 12/25\n",
      "250/250 [==============================] - 85s 339ms/step - loss: 0.4022 - accuracy: 0.8169 - val_loss: 0.4693 - val_accuracy: 0.7885\n",
      "Epoch 13/25\n",
      "250/250 [==============================] - 102s 407ms/step - loss: 0.3796 - accuracy: 0.8281 - val_loss: 0.4665 - val_accuracy: 0.7935\n",
      "Epoch 14/25\n",
      "250/250 [==============================] - 106s 426ms/step - loss: 0.3668 - accuracy: 0.8359 - val_loss: 0.4767 - val_accuracy: 0.8055\n",
      "Epoch 15/25\n",
      "250/250 [==============================] - 92s 370ms/step - loss: 0.3505 - accuracy: 0.8429 - val_loss: 0.4483 - val_accuracy: 0.8030\n",
      "Epoch 16/25\n",
      "250/250 [==============================] - 126s 502ms/step - loss: 0.3452 - accuracy: 0.8457 - val_loss: 0.4721 - val_accuracy: 0.7895\n",
      "Epoch 17/25\n",
      "250/250 [==============================] - 79s 315ms/step - loss: 0.3313 - accuracy: 0.8575 - val_loss: 0.4836 - val_accuracy: 0.7890\n",
      "Epoch 18/25\n",
      "250/250 [==============================] - 77s 307ms/step - loss: 0.3151 - accuracy: 0.8608 - val_loss: 0.5119 - val_accuracy: 0.7900\n",
      "Epoch 19/25\n",
      "250/250 [==============================] - 85s 341ms/step - loss: 0.3120 - accuracy: 0.8668 - val_loss: 0.5855 - val_accuracy: 0.7695\n",
      "Epoch 20/25\n",
      "250/250 [==============================] - 85s 339ms/step - loss: 0.2924 - accuracy: 0.8748 - val_loss: 0.4831 - val_accuracy: 0.8045\n",
      "Epoch 21/25\n",
      "250/250 [==============================] - 79s 315ms/step - loss: 0.2767 - accuracy: 0.8848 - val_loss: 0.6211 - val_accuracy: 0.7625\n",
      "Epoch 22/25\n",
      "250/250 [==============================] - 79s 314ms/step - loss: 0.2728 - accuracy: 0.8846 - val_loss: 0.5041 - val_accuracy: 0.8100\n",
      "Epoch 23/25\n",
      "250/250 [==============================] - 78s 312ms/step - loss: 0.2575 - accuracy: 0.8906 - val_loss: 0.5029 - val_accuracy: 0.8030\n",
      "Epoch 24/25\n",
      "250/250 [==============================] - 80s 319ms/step - loss: 0.2654 - accuracy: 0.8866 - val_loss: 0.5145 - val_accuracy: 0.8015\n",
      "Epoch 25/25\n",
      "250/250 [==============================] - 78s 313ms/step - loss: 0.2352 - accuracy: 0.9011 - val_loss: 0.5285 - val_accuracy: 0.8035\n"
     ]
    },
    {
     "data": {
      "text/plain": [
       "<tensorflow.python.keras.callbacks.History at 0x1e2ffba2148>"
      ]
     },
     "execution_count": 13,
     "metadata": {},
     "output_type": "execute_result"
    }
   ],
   "source": [
    "cnn.fit(x = training_set, validation_data = test_set, epochs = 25)"
   ]
  },
  {
   "cell_type": "markdown",
   "metadata": {},
   "source": [
    "### Part4 = Let make a single prediction"
   ]
  },
  {
   "cell_type": "code",
   "execution_count": 15,
   "metadata": {},
   "outputs": [],
   "source": [
    "import numpy as np\n",
    "from keras.preprocessing import image\n",
    "test_image = image.load_img('dataset/single_prediction/cat_or_dog_1.jpg', target_size = (64, 64))\n",
    "test_image = image.img_to_array(test_image)\n",
    "test_image = np.expand_dims(test_image, axis = 0)\n",
    "result = cnn.predict(test_image)\n",
    "training_set.class_indices\n",
    "if result[0][0] == 1:\n",
    "  prediction = 'dog'\n",
    "else:\n",
    "  prediction = 'cat'"
   ]
  },
  {
   "cell_type": "code",
   "execution_count": 16,
   "metadata": {},
   "outputs": [
    {
     "name": "stdout",
     "output_type": "stream",
     "text": [
      "dog\n"
     ]
    }
   ],
   "source": [
    "print(prediction)"
   ]
  },
  {
   "cell_type": "code",
   "execution_count": null,
   "metadata": {},
   "outputs": [],
   "source": []
  }
 ],
 "metadata": {
  "kernelspec": {
   "display_name": "Python 3",
   "language": "python",
   "name": "python3"
  }
 },
 "nbformat": 4,
 "nbformat_minor": 4
}
