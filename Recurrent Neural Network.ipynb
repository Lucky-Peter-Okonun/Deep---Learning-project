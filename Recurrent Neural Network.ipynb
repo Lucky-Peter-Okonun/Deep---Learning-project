{
 "cells": [
  {
   "cell_type": "markdown",
   "metadata": {},
   "source": [
    "## Recurrent neural Network"
   ]
  },
  {
   "cell_type": "markdown",
   "metadata": {},
   "source": [
    "### Import the libraries"
   ]
  },
  {
   "cell_type": "code",
   "execution_count": 1,
   "metadata": {},
   "outputs": [],
   "source": [
    "import numpy as np\n",
    "import pandas as pd\n",
    "import matplotlib.pyplot as plt"
   ]
  },
  {
   "cell_type": "markdown",
   "metadata": {},
   "source": [
    "## Part1 - Data Processing"
   ]
  },
  {
   "cell_type": "markdown",
   "metadata": {},
   "source": [
    "### Import the Training set"
   ]
  },
  {
   "cell_type": "code",
   "execution_count": 2,
   "metadata": {},
   "outputs": [],
   "source": [
    "data_train = pd.read_csv(\"Google_Stock_Price_Train.csv\")\n",
    "training_set = data_train.iloc[:, 1:2].values"
   ]
  },
  {
   "cell_type": "markdown",
   "metadata": {},
   "source": [
    "### Let Apply Feature Scaling by using MinMaxScale"
   ]
  },
  {
   "cell_type": "code",
   "execution_count": 3,
   "metadata": {},
   "outputs": [],
   "source": [
    "from sklearn.preprocessing import MinMaxScaler\n",
    "sc = MinMaxScaler(feature_range = (0, 1))\n",
    "training_set_scaled = sc.fit_transform(training_set)"
   ]
  },
  {
   "cell_type": "markdown",
   "metadata": {},
   "source": [
    "### Let create data structure with 60 timestep and 1 output"
   ]
  },
  {
   "cell_type": "code",
   "execution_count": 5,
   "metadata": {},
   "outputs": [],
   "source": [
    "X_train = []\n",
    "y_train = []\n",
    "for i in range (60, 1258):\n",
    "    X_train.append(training_set_scaled[i-60:i, 0])\n",
    "    y_train.append(training_set_scaled[i, 0])\n",
    "X_train, y_train = np.array(X_train), np.array(y_train)"
   ]
  },
  {
   "cell_type": "markdown",
   "metadata": {},
   "source": [
    "### Let Reshape"
   ]
  },
  {
   "cell_type": "code",
   "execution_count": 7,
   "metadata": {},
   "outputs": [],
   "source": [
    "X_train = np.reshape(X_train, (X_train.shape[0], X_train.shape[1], 1))"
   ]
  },
  {
   "cell_type": "markdown",
   "metadata": {},
   "source": [
    "### Part2 - Building The Recurrent Neural Network\n",
    "\n",
    "\n",
    "#### Let import the keras libraries and packages"
   ]
  },
  {
   "cell_type": "code",
   "execution_count": 9,
   "metadata": {},
   "outputs": [],
   "source": [
    "from keras.models import Sequential\n",
    "from keras.layers import LSTM\n",
    "from keras.layers import Dense\n",
    "from keras.layers import Dropout"
   ]
  },
  {
   "cell_type": "markdown",
   "metadata": {},
   "source": [
    "## Initialising the rnn"
   ]
  },
  {
   "cell_type": "code",
   "execution_count": 11,
   "metadata": {},
   "outputs": [],
   "source": [
    "regressor = Sequential()"
   ]
  },
  {
   "cell_type": "markdown",
   "metadata": {},
   "source": [
    "### Add the first LSTM layers and some dropout regularisation"
   ]
  },
  {
   "cell_type": "code",
   "execution_count": 12,
   "metadata": {},
   "outputs": [],
   "source": [
    "regressor.add(LSTM(units = 50, return_sequences = True, input_shape = (X_train.shape[1], 1)))\n",
    "regressor.add(Dropout(0.2))"
   ]
  },
  {
   "cell_type": "markdown",
   "metadata": {},
   "source": [
    "### Add the second LSTM layers and some dropout regularisation"
   ]
  },
  {
   "cell_type": "code",
   "execution_count": 13,
   "metadata": {},
   "outputs": [],
   "source": [
    "regressor.add(LSTM(units = 50, return_sequences = True))\n",
    "regressor.add(Dropout(0.2))"
   ]
  },
  {
   "cell_type": "markdown",
   "metadata": {},
   "source": [
    "### Add the third LSTM layers and some dropout regularisation"
   ]
  },
  {
   "cell_type": "code",
   "execution_count": 14,
   "metadata": {},
   "outputs": [],
   "source": [
    "regressor.add(LSTM(units = 50, return_sequences = True))\n",
    "regressor.add(Dropout(0.2))"
   ]
  },
  {
   "cell_type": "markdown",
   "metadata": {},
   "source": [
    "### Add the fourth LSTM layers and some dropout regularisation"
   ]
  },
  {
   "cell_type": "code",
   "execution_count": 16,
   "metadata": {},
   "outputs": [],
   "source": [
    "regressor.add(LSTM(units = 50))\n",
    "regressor.add(Dropout(0.2))"
   ]
  },
  {
   "cell_type": "markdown",
   "metadata": {},
   "source": [
    "### Add the output layers"
   ]
  },
  {
   "cell_type": "code",
   "execution_count": 17,
   "metadata": {},
   "outputs": [],
   "source": [
    "regressor.add(Dense(units = 1))"
   ]
  },
  {
   "cell_type": "markdown",
   "metadata": {},
   "source": [
    "### Compile the rnn"
   ]
  },
  {
   "cell_type": "code",
   "execution_count": 19,
   "metadata": {},
   "outputs": [],
   "source": [
    "regressor.compile(optimizer = \"adam\", loss = \"mean_squared_error\")"
   ]
  },
  {
   "cell_type": "markdown",
   "metadata": {},
   "source": [
    "### Let fit RNN to the Training set"
   ]
  },
  {
   "cell_type": "code",
   "execution_count": 20,
   "metadata": {},
   "outputs": [
    {
     "name": "stdout",
     "output_type": "stream",
     "text": [
      "Epoch 1/100\n",
      "38/38 [==============================] - 4s 106ms/step - loss: 0.0456\n",
      "Epoch 2/100\n",
      "38/38 [==============================] - 4s 110ms/step - loss: 0.0063\n",
      "Epoch 3/100\n",
      "38/38 [==============================] - 4s 102ms/step - loss: 0.0057\n",
      "Epoch 4/100\n",
      "38/38 [==============================] - 4s 100ms/step - loss: 0.0053\n",
      "Epoch 5/100\n",
      "38/38 [==============================] - 4s 104ms/step - loss: 0.0048\n",
      "Epoch 6/100\n",
      "38/38 [==============================] - 4s 97ms/step - loss: 0.0046\n",
      "Epoch 7/100\n",
      "38/38 [==============================] - 4s 97ms/step - loss: 0.0049\n",
      "Epoch 8/100\n",
      "38/38 [==============================] - 4s 96ms/step - loss: 0.0043\n",
      "Epoch 9/100\n",
      "38/38 [==============================] - 4s 104ms/step - loss: 0.0044\n",
      "Epoch 10/100\n",
      "38/38 [==============================] - 4s 100ms/step - loss: 0.0047\n",
      "Epoch 11/100\n",
      "38/38 [==============================] - 4s 95ms/step - loss: 0.0046\n",
      "Epoch 12/100\n",
      "38/38 [==============================] - 4s 96ms/step - loss: 0.0046\n",
      "Epoch 13/100\n",
      "38/38 [==============================] - 4s 106ms/step - loss: 0.0039\n",
      "Epoch 14/100\n",
      "38/38 [==============================] - 4s 98ms/step - loss: 0.0040\n",
      "Epoch 15/100\n",
      "38/38 [==============================] - 4s 99ms/step - loss: 0.0044\n",
      "Epoch 16/100\n",
      "38/38 [==============================] - 4s 100ms/step - loss: 0.0037\n",
      "Epoch 17/100\n",
      "38/38 [==============================] - 4s 109ms/step - loss: 0.0038\n",
      "Epoch 18/100\n",
      "38/38 [==============================] - 4s 105ms/step - loss: 0.0041\n",
      "Epoch 19/100\n",
      "38/38 [==============================] - 4s 97ms/step - loss: 0.0041\n",
      "Epoch 20/100\n",
      "38/38 [==============================] - 4s 97ms/step - loss: 0.0039\n",
      "Epoch 21/100\n",
      "38/38 [==============================] - 4s 103ms/step - loss: 0.0033\n",
      "Epoch 22/100\n",
      "38/38 [==============================] - 4s 99ms/step - loss: 0.0037\n",
      "Epoch 23/100\n",
      "38/38 [==============================] - 4s 95ms/step - loss: 0.0033\n",
      "Epoch 24/100\n",
      "38/38 [==============================] - 4s 106ms/step - loss: 0.0034\n",
      "Epoch 25/100\n",
      "38/38 [==============================] - 4s 115ms/step - loss: 0.0032\n",
      "Epoch 26/100\n",
      "38/38 [==============================] - 4s 104ms/step - loss: 0.0038\n",
      "Epoch 27/100\n",
      "38/38 [==============================] - 4s 99ms/step - loss: 0.0032\n",
      "Epoch 28/100\n",
      "38/38 [==============================] - 3s 92ms/step - loss: 0.0034\n",
      "Epoch 29/100\n",
      "38/38 [==============================] - 4s 97ms/step - loss: 0.0034\n",
      "Epoch 30/100\n",
      "38/38 [==============================] - 4s 96ms/step - loss: 0.0032\n",
      "Epoch 31/100\n",
      "38/38 [==============================] - 3s 92ms/step - loss: 0.0032\n",
      "Epoch 32/100\n",
      "38/38 [==============================] - 3s 90ms/step - loss: 0.0027\n",
      "Epoch 33/100\n",
      "38/38 [==============================] - 4s 105ms/step - loss: 0.0028\n",
      "Epoch 34/100\n",
      "38/38 [==============================] - 4s 98ms/step - loss: 0.0029\n",
      "Epoch 35/100\n",
      "38/38 [==============================] - 3s 90ms/step - loss: 0.0029\n",
      "Epoch 36/100\n",
      "38/38 [==============================] - 3s 90ms/step - loss: 0.0028\n",
      "Epoch 37/100\n",
      "38/38 [==============================] - 4s 94ms/step - loss: 0.0029\n",
      "Epoch 38/100\n",
      "38/38 [==============================] - 4s 100ms/step - loss: 0.0029\n",
      "Epoch 39/100\n",
      "38/38 [==============================] - 4s 93ms/step - loss: 0.0028\n",
      "Epoch 40/100\n",
      "38/38 [==============================] - 4s 97ms/step - loss: 0.0025\n",
      "Epoch 41/100\n",
      "38/38 [==============================] - 3s 90ms/step - loss: 0.0026\n",
      "Epoch 42/100\n",
      "38/38 [==============================] - 4s 97ms/step - loss: 0.0025\n",
      "Epoch 43/100\n",
      "38/38 [==============================] - 4s 94ms/step - loss: 0.0028\n",
      "Epoch 44/100\n",
      "38/38 [==============================] - 3s 91ms/step - loss: 0.0027\n",
      "Epoch 45/100\n",
      "38/38 [==============================] - 3s 92ms/step - loss: 0.0029\n",
      "Epoch 46/100\n",
      "38/38 [==============================] - 4s 95ms/step - loss: 0.0027\n",
      "Epoch 47/100\n",
      "38/38 [==============================] - 4s 98ms/step - loss: 0.0025\n",
      "Epoch 48/100\n",
      "38/38 [==============================] - 3s 91ms/step - loss: 0.0023\n",
      "Epoch 49/100\n",
      "38/38 [==============================] - 4s 100ms/step - loss: 0.0025\n",
      "Epoch 50/100\n",
      "38/38 [==============================] - 4s 94ms/step - loss: 0.0027\n",
      "Epoch 51/100\n",
      "38/38 [==============================] - 4s 100ms/step - loss: 0.0023\n",
      "Epoch 52/100\n",
      "38/38 [==============================] - 3s 91ms/step - loss: 0.0024\n",
      "Epoch 53/100\n",
      "38/38 [==============================] - 3s 92ms/step - loss: 0.0025: 1\n",
      "Epoch 54/100\n",
      "38/38 [==============================] - 3s 92ms/step - loss: 0.0024\n",
      "Epoch 55/100\n",
      "38/38 [==============================] - 4s 98ms/step - loss: 0.0023\n",
      "Epoch 56/100\n",
      "38/38 [==============================] - 4s 94ms/step - loss: 0.0022\n",
      "Epoch 57/100\n",
      "38/38 [==============================] - 3s 90ms/step - loss: 0.0026\n",
      "Epoch 58/100\n",
      "38/38 [==============================] - 3s 92ms/step - loss: 0.0025A: 0s - l\n",
      "Epoch 59/100\n",
      "38/38 [==============================] - 4s 97ms/step - loss: 0.0023\n",
      "Epoch 60/100\n",
      "38/38 [==============================] - 4s 98ms/step - loss: 0.0024\n",
      "Epoch 61/100\n",
      "38/38 [==============================] - 4s 93ms/step - loss: 0.0022\n",
      "Epoch 62/100\n",
      "38/38 [==============================] - 3s 91ms/step - loss: 0.0026\n",
      "Epoch 63/100\n",
      "38/38 [==============================] - 4s 93ms/step - loss: 0.0020\n",
      "Epoch 64/100\n",
      "38/38 [==============================] - 4s 100ms/step - loss: 0.0021\n",
      "Epoch 65/100\n",
      "38/38 [==============================] - 4s 100ms/step - loss: 0.0019\n",
      "Epoch 66/100\n",
      "38/38 [==============================] - 4s 93ms/step - loss: 0.0022\n",
      "Epoch 67/100\n",
      "38/38 [==============================] - 3s 92ms/step - loss: 0.0021\n",
      "Epoch 68/100\n",
      "38/38 [==============================] - 4s 99ms/step - loss: 0.0021\n",
      "Epoch 69/100\n",
      "38/38 [==============================] - 4s 96ms/step - loss: 0.0017\n",
      "Epoch 70/100\n",
      "38/38 [==============================] - 4s 92ms/step - loss: 0.0022\n",
      "Epoch 71/100\n",
      "38/38 [==============================] - 3s 92ms/step - loss: 0.0019\n",
      "Epoch 72/100\n",
      "38/38 [==============================] - 4s 103ms/step - loss: 0.0018\n",
      "Epoch 73/100\n",
      "38/38 [==============================] - 4s 98ms/step - loss: 0.0018\n",
      "Epoch 74/100\n",
      "38/38 [==============================] - ETA: 0s - loss: 0.002 - 3s 92ms/step - loss: 0.0020\n",
      "Epoch 75/100\n",
      "38/38 [==============================] - 3s 91ms/step - loss: 0.0020\n",
      "Epoch 76/100\n",
      "38/38 [==============================] - 4s 93ms/step - loss: 0.0018\n",
      "Epoch 77/100\n",
      "38/38 [==============================] - 4s 99ms/step - loss: 0.0018\n",
      "Epoch 78/100\n",
      "38/38 [==============================] - 4s 104ms/step - loss: 0.0020\n",
      "Epoch 79/100\n",
      "38/38 [==============================] - 3s 90ms/step - loss: 0.0017: 0s - loss:\n",
      "Epoch 80/100\n",
      "38/38 [==============================] - 3s 91ms/step - loss: 0.0018\n",
      "Epoch 81/100\n",
      "38/38 [==============================] - 4s 108ms/step - loss: 0.0017\n",
      "Epoch 82/100\n",
      "38/38 [==============================] - 4s 96ms/step - loss: 0.0017\n",
      "Epoch 83/100\n",
      "38/38 [==============================] - 4s 93ms/step - loss: 0.0016\n",
      "Epoch 84/100\n",
      "38/38 [==============================] - 3s 92ms/step - loss: 0.0017\n",
      "Epoch 85/100\n",
      "38/38 [==============================] - 4s 99ms/step - loss: 0.0018\n",
      "Epoch 86/100\n",
      "38/38 [==============================] - 4s 98ms/step - loss: 0.0017\n",
      "Epoch 87/100\n",
      "38/38 [==============================] - 3s 90ms/step - loss: 0.0014: 1\n",
      "Epoch 88/100\n",
      "38/38 [==============================] - 3s 91ms/step - loss: 0.0016\n",
      "Epoch 89/100\n",
      "38/38 [==============================] - 4s 95ms/step - loss: 0.0016\n",
      "Epoch 90/100\n",
      "38/38 [==============================] - 4s 99ms/step - loss: 0.0016\n",
      "Epoch 91/100\n",
      "38/38 [==============================] - 4s 93ms/step - loss: 0.0017\n",
      "Epoch 92/100\n",
      "38/38 [==============================] - 3s 92ms/step - loss: 0.0017:\n",
      "Epoch 93/100\n",
      "38/38 [==============================] - 3s 90ms/step - loss: 0.0016\n",
      "Epoch 94/100\n",
      "38/38 [==============================] - 4s 101ms/step - loss: 0.0015\n",
      "Epoch 95/100\n",
      "38/38 [==============================] - 4s 94ms/step - loss: 0.0016\n",
      "Epoch 96/100\n",
      "38/38 [==============================] - 4s 94ms/step - loss: 0.0014\n",
      "Epoch 97/100\n",
      "38/38 [==============================] - 4s 95ms/step - loss: 0.0014\n",
      "Epoch 98/100\n",
      "38/38 [==============================] - 4s 103ms/step - loss: 0.0013\n",
      "Epoch 99/100\n",
      "38/38 [==============================] - 4s 96ms/step - loss: 0.0014\n",
      "Epoch 100/100\n",
      "38/38 [==============================] - 4s 100ms/step - loss: 0.0015\n"
     ]
    },
    {
     "data": {
      "text/plain": [
       "<tensorflow.python.keras.callbacks.History at 0x298dba9d820>"
      ]
     },
     "execution_count": 20,
     "metadata": {},
     "output_type": "execute_result"
    }
   ],
   "source": [
    "regressor.fit(X_train, y_train, epochs = 100, batch_size = 32)"
   ]
  },
  {
   "cell_type": "markdown",
   "metadata": {},
   "source": [
    "### Let make a Prediction and Visualize it\n",
    "\n",
    "##### Let getting the real stock of 2017"
   ]
  },
  {
   "cell_type": "code",
   "execution_count": 21,
   "metadata": {},
   "outputs": [],
   "source": [
    "data_test = pd.read_csv('Google_Stock_Price_Test.csv')\n",
    "real_stock_price = data_test.iloc[:, 1:2].values"
   ]
  },
  {
   "cell_type": "markdown",
   "metadata": {},
   "source": [
    "### Getting the Prediction Stocks price of 2017"
   ]
  },
  {
   "cell_type": "code",
   "execution_count": 25,
   "metadata": {},
   "outputs": [],
   "source": [
    "data_total = pd.concat((data_train[\"Open\"], data_test[\"Open\"]), axis = 0)\n",
    "inputs = data_total[len(data_total) -len(data_test) -60:].values\n",
    "inputs = inputs.reshape(-1,1)\n",
    "inputs = sc.transform(inputs)\n",
    "X_test = []\n",
    "for i in range(60, 80):\n",
    "    X_test.append(inputs[i-60:i, 0])\n",
    "X_test = np.array(X_test)\n",
    "X_test = np.reshape(X_test, (X_test.shape[0], X_test.shape[1], 1))\n",
    "stock_price_predicted = regressor.predict(X_test)\n",
    "stock_price_predicted = sc.inverse_transform(stock_price_predicted)"
   ]
  },
  {
   "cell_type": "markdown",
   "metadata": {},
   "source": [
    "### Let Visualize the Result"
   ]
  },
  {
   "cell_type": "code",
   "execution_count": 27,
   "metadata": {},
   "outputs": [
    {
     "data": {
      "image/png": "[encoded data removed]",
      "text/plain": [
       "<Figure size 432x288 with 1 Axes>"
      ]
     },
     "metadata": {
      "needs_background": "light"
     },
     "output_type": "display_data"
    }
   ],
   "source": [
    "plt.plot(real_stock_price, color = \"red\", label = \"Real Google Stock Price\")\n",
    "plt.plot(stock_price_predicted, color = \"blue\", label = \"Predicted Google Stock Price\")\n",
    "plt.title(\"Google Stock Price Prediction\")\n",
    "plt.xlabel(\"Time\")\n",
    "plt.ylabel(\"Price of Google Stock\")\n",
    "plt.legend()\n",
    "plt.show()"
   ]
  },
  {
   "cell_type": "markdown",
   "metadata": {},
   "source": [
    "### RMSE"
   ]
  },
  {
   "cell_type": "code",
   "execution_count": 35,
   "metadata": {},
   "outputs": [],
   "source": [
    "import math\n",
    "from sklearn.metrics import mean_squared_error\n",
    "rmse = math.sqrt(mean_squared_error(real_stock_price, stock_price_predicted))"
   ]
  },
  {
   "cell_type": "code",
   "execution_count": 36,
   "metadata": {},
   "outputs": [
    {
     "data": {
      "text/plain": [
       "20.403014552676478"
      ]
     },
     "execution_count": 36,
     "metadata": {},
     "output_type": "execute_result"
    }
   ],
   "source": [
    "rmse"
   ]
  },
  {
   "cell_type": "code",
   "execution_count": null,
   "metadata": {},
   "outputs": [],
   "source": []
  }
 ],
 "metadata": {
  "kernelspec": {
   "display_name": "Python 3",
   "language": "python",
   "name": "python3"
  },
  "language_info": {
   "codemirror_mode": {
    "name": "ipython",
    "version": 3
   },
   "file_extension": ".py",
   "mimetype": "text/x-python",
   "name": "python",
   "nbconvert_exporter": "python",
   "pygments_lexer": "ipython3",
   "version": "3.8.3"
  }
 },
 "nbformat": 4,
 "nbformat_minor": 4
}
