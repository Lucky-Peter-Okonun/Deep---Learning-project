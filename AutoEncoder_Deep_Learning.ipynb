{
  "nbformat": 4,
  "nbformat_minor": 0,
  "metadata": {
    "colab": {
      "name": "AutoEncoder_Deep_Learning.ipynb",
      "provenance": []
    },
    "kernelspec": {
      "name": "python3",
      "display_name": "Python 3"
    }
  },
  "cells": [
    {
      "cell_type": "markdown",
      "metadata": {
        "id": "3XjZa61ieDGz"
      },
      "source": [
        "AutoEncoders"
      ]
    },
    {
      "cell_type": "markdown",
      "metadata": {
        "id": "Jf54Lgq7emh8"
      },
      "source": [
        "Download the Dataset\n",
        "\n",
        "\n",
        "ML-100k"
      ]
    },
    {
      "cell_type": "code",
      "metadata": {
        "id": "bKGI3K3heiFN",
        "outputId": "a4940b82-4d4b-4163-869b-a3ede5d120b3",
        "colab": {
          "base_uri": "https://localhost:8080/"
        }
      },
      "source": [
        "!wget \"http://files.grouplens.org/datasets/movielens/ml-100k.zip\"\n",
        "!unzip ml-100k.zip\n",
        "!ls"
      ],
      "execution_count": null,
      "outputs": [
        {
          "output_type": "stream",
          "text": [
            "--2020-10-29 13:15:12--  http://files.grouplens.org/datasets/movielens/ml-100k.zip\n",
            "Resolving files.grouplens.org (files.grouplens.org)... 128.101.65.152\n",
            "Connecting to files.grouplens.org (files.grouplens.org)|128.101.65.152|:80... connected.\n",
            "HTTP request sent, awaiting response... 200 OK\n",
            "Length: 4924029 (4.7M) [application/zip]\n",
            "Saving to: ‘ml-100k.zip.2’\n",
            "\n",
            "ml-100k.zip.2       100%[===================>]   4.70M  3.55MB/s    in 1.3s    \n",
            "\n",
            "2020-10-29 13:15:14 (3.55 MB/s) - ‘ml-100k.zip.2’ saved [4924029/4924029]\n",
            "\n",
            "Archive:  ml-100k.zip\n",
            "   creating: ml-100k/\n",
            "  inflating: ml-100k/allbut.pl       \n",
            "  inflating: ml-100k/mku.sh          \n",
            "  inflating: ml-100k/README          \n",
            "  inflating: ml-100k/u.data          \n",
            "  inflating: ml-100k/u.genre         \n",
            "  inflating: ml-100k/u.info          \n",
            "  inflating: ml-100k/u.item          \n",
            "  inflating: ml-100k/u.occupation    \n",
            "  inflating: ml-100k/u.user          \n",
            "  inflating: ml-100k/u1.base         \n",
            "  inflating: ml-100k/u1.test         \n",
            "  inflating: ml-100k/u2.base         \n",
            "  inflating: ml-100k/u2.test         \n",
            "  inflating: ml-100k/u3.base         \n",
            "  inflating: ml-100k/u3.test         \n",
            "  inflating: ml-100k/u4.base         \n",
            "  inflating: ml-100k/u4.test         \n",
            "  inflating: ml-100k/u5.base         \n",
            "  inflating: ml-100k/u5.test         \n",
            "  inflating: ml-100k/ua.base         \n",
            "  inflating: ml-100k/ua.test         \n",
            "  inflating: ml-100k/ub.base         \n",
            "  inflating: ml-100k/ub.test         \n",
            "ml-100k  ml-100k.zip  ml-100k.zip.1  ml-100k.zip.2  sample_data\n"
          ],
          "name": "stdout"
        }
      ]
    },
    {
      "cell_type": "markdown",
      "metadata": {
        "id": "fAEH1DRiflqp"
      },
      "source": [
        "ML 1M"
      ]
    },
    {
      "cell_type": "code",
      "metadata": {
        "id": "ku6ZwQyvf_CY",
        "outputId": "9ec2bc02-60d4-4d88-d2d3-473c6791ef1e",
        "colab": {
          "base_uri": "https://localhost:8080/"
        }
      },
      "source": [
        "!wget \"http://files.grouplens.org/datasets/movielens/ml-1m.zip\"\n",
        "!unzip ml-1m.zip\n",
        "!ls"
      ],
      "execution_count": null,
      "outputs": [
        {
          "output_type": "stream",
          "text": [
            "--2020-10-29 13:17:37--  http://files.grouplens.org/datasets/movielens/ml-1m.zip\n",
            "Resolving files.grouplens.org (files.grouplens.org)... 128.101.65.152\n",
            "Connecting to files.grouplens.org (files.grouplens.org)|128.101.65.152|:80... connected.\n",
            "HTTP request sent, awaiting response... 200 OK\n",
            "Length: 5917549 (5.6M) [application/zip]\n",
            "Saving to: ‘ml-1m.zip’\n",
            "\n",
            "ml-1m.zip           100%[===================>]   5.64M  4.26MB/s    in 1.3s    \n",
            "\n",
            "2020-10-29 13:17:38 (4.26 MB/s) - ‘ml-1m.zip’ saved [5917549/5917549]\n",
            "\n",
            "Archive:  ml-1m.zip\n",
            "   creating: ml-1m/\n",
            "  inflating: ml-1m/movies.dat        \n",
            "  inflating: ml-1m/ratings.dat       \n",
            "  inflating: ml-1m/README            \n",
            "  inflating: ml-1m/users.dat         \n",
            "ml-100k      ml-100k.zip.1  ml-1m      sample_data\n",
            "ml-100k.zip  ml-100k.zip.2  ml-1m.zip\n"
          ],
          "name": "stdout"
        }
      ]
    },
    {
      "cell_type": "markdown",
      "metadata": {
        "id": "zuHHgNaRgwRt"
      },
      "source": [
        "Import the libraries"
      ]
    },
    {
      "cell_type": "code",
      "metadata": {
        "id": "Ssle-SwWg0WJ"
      },
      "source": [
        "import numpy as np\n",
        "import pandas as pd\n",
        "import torch\n",
        "import torch.nn as nn\n",
        "import torch.optim as optim\n",
        "import torch.utils.data\n",
        "import torch.nn.parallel\n",
        "from torch.autograd import Variable"
      ],
      "execution_count": 91,
      "outputs": []
    },
    {
      "cell_type": "markdown",
      "metadata": {
        "id": "ATOF72SGhp3j"
      },
      "source": [
        "Import the dataset"
      ]
    },
    {
      "cell_type": "code",
      "metadata": {
        "id": "hIH35Nx8hbHr"
      },
      "source": [
        "\n",
        "\n",
        "movies = pd.read_csv('ml-1m/movies.dat', sep = '::', header = None, engine = 'python', encoding = 'latin-1')\n",
        "users = pd.read_csv('ml-1m/movies.dat', sep = '::', header = None, engine = 'python', encoding = 'latin-1')\n",
        "ratings = pd.read_csv('ml-1m/movies.dat', sep = '::', header = None, engine = 'python', encoding = 'latin-1')\n",
        "\n"
      ],
      "execution_count": 92,
      "outputs": []
    },
    {
      "cell_type": "code",
      "metadata": {
        "id": "ZGAiJGrjonNX",
        "outputId": "ee465df4-5b58-489e-a7f3-1a78b9607c49",
        "colab": {
          "base_uri": "https://localhost:8080/",
          "height": 419
        }
      },
      "source": [
        "movies"
      ],
      "execution_count": 93,
      "outputs": [
        {
          "output_type": "execute_result",
          "data": {
            "text/html": [
              "<div>\n",
              "<style scoped>\n",
              "    .dataframe tbody tr th:only-of-type {\n",
              "        vertical-align: middle;\n",
              "    }\n",
              "\n",
              "    .dataframe tbody tr th {\n",
              "        vertical-align: top;\n",
              "    }\n",
              "\n",
              "    .dataframe thead th {\n",
              "        text-align: right;\n",
              "    }\n",
              "</style>\n",
              "<table border=\"1\" class=\"dataframe\">\n",
              "  <thead>\n",
              "    <tr style=\"text-align: right;\">\n",
              "      <th></th>\n",
              "      <th>0</th>\n",
              "      <th>1</th>\n",
              "      <th>2</th>\n",
              "    </tr>\n",
              "  </thead>\n",
              "  <tbody>\n",
              "    <tr>\n",
              "      <th>0</th>\n",
              "      <td>1</td>\n",
              "      <td>Toy Story (1995)</td>\n",
              "      <td>Animation|Children's|Comedy</td>\n",
              "    </tr>\n",
              "    <tr>\n",
              "      <th>1</th>\n",
              "      <td>2</td>\n",
              "      <td>Jumanji (1995)</td>\n",
              "      <td>Adventure|Children's|Fantasy</td>\n",
              "    </tr>\n",
              "    <tr>\n",
              "      <th>2</th>\n",
              "      <td>3</td>\n",
              "      <td>Grumpier Old Men (1995)</td>\n",
              "      <td>Comedy|Romance</td>\n",
              "    </tr>\n",
              "    <tr>\n",
              "      <th>3</th>\n",
              "      <td>4</td>\n",
              "      <td>Waiting to Exhale (1995)</td>\n",
              "      <td>Comedy|Drama</td>\n",
              "    </tr>\n",
              "    <tr>\n",
              "      <th>4</th>\n",
              "      <td>5</td>\n",
              "      <td>Father of the Bride Part II (1995)</td>\n",
              "      <td>Comedy</td>\n",
              "    </tr>\n",
              "    <tr>\n",
              "      <th>...</th>\n",
              "      <td>...</td>\n",
              "      <td>...</td>\n",
              "      <td>...</td>\n",
              "    </tr>\n",
              "    <tr>\n",
              "      <th>3878</th>\n",
              "      <td>3948</td>\n",
              "      <td>Meet the Parents (2000)</td>\n",
              "      <td>Comedy</td>\n",
              "    </tr>\n",
              "    <tr>\n",
              "      <th>3879</th>\n",
              "      <td>3949</td>\n",
              "      <td>Requiem for a Dream (2000)</td>\n",
              "      <td>Drama</td>\n",
              "    </tr>\n",
              "    <tr>\n",
              "      <th>3880</th>\n",
              "      <td>3950</td>\n",
              "      <td>Tigerland (2000)</td>\n",
              "      <td>Drama</td>\n",
              "    </tr>\n",
              "    <tr>\n",
              "      <th>3881</th>\n",
              "      <td>3951</td>\n",
              "      <td>Two Family House (2000)</td>\n",
              "      <td>Drama</td>\n",
              "    </tr>\n",
              "    <tr>\n",
              "      <th>3882</th>\n",
              "      <td>3952</td>\n",
              "      <td>Contender, The (2000)</td>\n",
              "      <td>Drama|Thriller</td>\n",
              "    </tr>\n",
              "  </tbody>\n",
              "</table>\n",
              "<p>3883 rows × 3 columns</p>\n",
              "</div>"
            ],
            "text/plain": [
              "         0                                   1                             2\n",
              "0        1                    Toy Story (1995)   Animation|Children's|Comedy\n",
              "1        2                      Jumanji (1995)  Adventure|Children's|Fantasy\n",
              "2        3             Grumpier Old Men (1995)                Comedy|Romance\n",
              "3        4            Waiting to Exhale (1995)                  Comedy|Drama\n",
              "4        5  Father of the Bride Part II (1995)                        Comedy\n",
              "...    ...                                 ...                           ...\n",
              "3878  3948             Meet the Parents (2000)                        Comedy\n",
              "3879  3949          Requiem for a Dream (2000)                         Drama\n",
              "3880  3950                    Tigerland (2000)                         Drama\n",
              "3881  3951             Two Family House (2000)                         Drama\n",
              "3882  3952               Contender, The (2000)                Drama|Thriller\n",
              "\n",
              "[3883 rows x 3 columns]"
            ]
          },
          "metadata": {
            "tags": []
          },
          "execution_count": 93
        }
      ]
    },
    {
      "cell_type": "code",
      "metadata": {
        "id": "qr7agX5dona8",
        "outputId": "503b7984-846b-4995-e01b-e70727b949fa",
        "colab": {
          "base_uri": "https://localhost:8080/",
          "height": 419
        }
      },
      "source": [
        "users"
      ],
      "execution_count": 94,
      "outputs": [
        {
          "output_type": "execute_result",
          "data": {
            "text/html": [
              "<div>\n",
              "<style scoped>\n",
              "    .dataframe tbody tr th:only-of-type {\n",
              "        vertical-align: middle;\n",
              "    }\n",
              "\n",
              "    .dataframe tbody tr th {\n",
              "        vertical-align: top;\n",
              "    }\n",
              "\n",
              "    .dataframe thead th {\n",
              "        text-align: right;\n",
              "    }\n",
              "</style>\n",
              "<table border=\"1\" class=\"dataframe\">\n",
              "  <thead>\n",
              "    <tr style=\"text-align: right;\">\n",
              "      <th></th>\n",
              "      <th>0</th>\n",
              "      <th>1</th>\n",
              "      <th>2</th>\n",
              "    </tr>\n",
              "  </thead>\n",
              "  <tbody>\n",
              "    <tr>\n",
              "      <th>0</th>\n",
              "      <td>1</td>\n",
              "      <td>Toy Story (1995)</td>\n",
              "      <td>Animation|Children's|Comedy</td>\n",
              "    </tr>\n",
              "    <tr>\n",
              "      <th>1</th>\n",
              "      <td>2</td>\n",
              "      <td>Jumanji (1995)</td>\n",
              "      <td>Adventure|Children's|Fantasy</td>\n",
              "    </tr>\n",
              "    <tr>\n",
              "      <th>2</th>\n",
              "      <td>3</td>\n",
              "      <td>Grumpier Old Men (1995)</td>\n",
              "      <td>Comedy|Romance</td>\n",
              "    </tr>\n",
              "    <tr>\n",
              "      <th>3</th>\n",
              "      <td>4</td>\n",
              "      <td>Waiting to Exhale (1995)</td>\n",
              "      <td>Comedy|Drama</td>\n",
              "    </tr>\n",
              "    <tr>\n",
              "      <th>4</th>\n",
              "      <td>5</td>\n",
              "      <td>Father of the Bride Part II (1995)</td>\n",
              "      <td>Comedy</td>\n",
              "    </tr>\n",
              "    <tr>\n",
              "      <th>...</th>\n",
              "      <td>...</td>\n",
              "      <td>...</td>\n",
              "      <td>...</td>\n",
              "    </tr>\n",
              "    <tr>\n",
              "      <th>3878</th>\n",
              "      <td>3948</td>\n",
              "      <td>Meet the Parents (2000)</td>\n",
              "      <td>Comedy</td>\n",
              "    </tr>\n",
              "    <tr>\n",
              "      <th>3879</th>\n",
              "      <td>3949</td>\n",
              "      <td>Requiem for a Dream (2000)</td>\n",
              "      <td>Drama</td>\n",
              "    </tr>\n",
              "    <tr>\n",
              "      <th>3880</th>\n",
              "      <td>3950</td>\n",
              "      <td>Tigerland (2000)</td>\n",
              "      <td>Drama</td>\n",
              "    </tr>\n",
              "    <tr>\n",
              "      <th>3881</th>\n",
              "      <td>3951</td>\n",
              "      <td>Two Family House (2000)</td>\n",
              "      <td>Drama</td>\n",
              "    </tr>\n",
              "    <tr>\n",
              "      <th>3882</th>\n",
              "      <td>3952</td>\n",
              "      <td>Contender, The (2000)</td>\n",
              "      <td>Drama|Thriller</td>\n",
              "    </tr>\n",
              "  </tbody>\n",
              "</table>\n",
              "<p>3883 rows × 3 columns</p>\n",
              "</div>"
            ],
            "text/plain": [
              "         0                                   1                             2\n",
              "0        1                    Toy Story (1995)   Animation|Children's|Comedy\n",
              "1        2                      Jumanji (1995)  Adventure|Children's|Fantasy\n",
              "2        3             Grumpier Old Men (1995)                Comedy|Romance\n",
              "3        4            Waiting to Exhale (1995)                  Comedy|Drama\n",
              "4        5  Father of the Bride Part II (1995)                        Comedy\n",
              "...    ...                                 ...                           ...\n",
              "3878  3948             Meet the Parents (2000)                        Comedy\n",
              "3879  3949          Requiem for a Dream (2000)                         Drama\n",
              "3880  3950                    Tigerland (2000)                         Drama\n",
              "3881  3951             Two Family House (2000)                         Drama\n",
              "3882  3952               Contender, The (2000)                Drama|Thriller\n",
              "\n",
              "[3883 rows x 3 columns]"
            ]
          },
          "metadata": {
            "tags": []
          },
          "execution_count": 94
        }
      ]
    },
    {
      "cell_type": "code",
      "metadata": {
        "id": "0aLn-FcJonnV",
        "outputId": "f8e9576e-6ec9-4c15-d382-28ece06e118e",
        "colab": {
          "base_uri": "https://localhost:8080/",
          "height": 419
        }
      },
      "source": [
        "ratings"
      ],
      "execution_count": 95,
      "outputs": [
        {
          "output_type": "execute_result",
          "data": {
            "text/html": [
              "<div>\n",
              "<style scoped>\n",
              "    .dataframe tbody tr th:only-of-type {\n",
              "        vertical-align: middle;\n",
              "    }\n",
              "\n",
              "    .dataframe tbody tr th {\n",
              "        vertical-align: top;\n",
              "    }\n",
              "\n",
              "    .dataframe thead th {\n",
              "        text-align: right;\n",
              "    }\n",
              "</style>\n",
              "<table border=\"1\" class=\"dataframe\">\n",
              "  <thead>\n",
              "    <tr style=\"text-align: right;\">\n",
              "      <th></th>\n",
              "      <th>0</th>\n",
              "      <th>1</th>\n",
              "      <th>2</th>\n",
              "    </tr>\n",
              "  </thead>\n",
              "  <tbody>\n",
              "    <tr>\n",
              "      <th>0</th>\n",
              "      <td>1</td>\n",
              "      <td>Toy Story (1995)</td>\n",
              "      <td>Animation|Children's|Comedy</td>\n",
              "    </tr>\n",
              "    <tr>\n",
              "      <th>1</th>\n",
              "      <td>2</td>\n",
              "      <td>Jumanji (1995)</td>\n",
              "      <td>Adventure|Children's|Fantasy</td>\n",
              "    </tr>\n",
              "    <tr>\n",
              "      <th>2</th>\n",
              "      <td>3</td>\n",
              "      <td>Grumpier Old Men (1995)</td>\n",
              "      <td>Comedy|Romance</td>\n",
              "    </tr>\n",
              "    <tr>\n",
              "      <th>3</th>\n",
              "      <td>4</td>\n",
              "      <td>Waiting to Exhale (1995)</td>\n",
              "      <td>Comedy|Drama</td>\n",
              "    </tr>\n",
              "    <tr>\n",
              "      <th>4</th>\n",
              "      <td>5</td>\n",
              "      <td>Father of the Bride Part II (1995)</td>\n",
              "      <td>Comedy</td>\n",
              "    </tr>\n",
              "    <tr>\n",
              "      <th>...</th>\n",
              "      <td>...</td>\n",
              "      <td>...</td>\n",
              "      <td>...</td>\n",
              "    </tr>\n",
              "    <tr>\n",
              "      <th>3878</th>\n",
              "      <td>3948</td>\n",
              "      <td>Meet the Parents (2000)</td>\n",
              "      <td>Comedy</td>\n",
              "    </tr>\n",
              "    <tr>\n",
              "      <th>3879</th>\n",
              "      <td>3949</td>\n",
              "      <td>Requiem for a Dream (2000)</td>\n",
              "      <td>Drama</td>\n",
              "    </tr>\n",
              "    <tr>\n",
              "      <th>3880</th>\n",
              "      <td>3950</td>\n",
              "      <td>Tigerland (2000)</td>\n",
              "      <td>Drama</td>\n",
              "    </tr>\n",
              "    <tr>\n",
              "      <th>3881</th>\n",
              "      <td>3951</td>\n",
              "      <td>Two Family House (2000)</td>\n",
              "      <td>Drama</td>\n",
              "    </tr>\n",
              "    <tr>\n",
              "      <th>3882</th>\n",
              "      <td>3952</td>\n",
              "      <td>Contender, The (2000)</td>\n",
              "      <td>Drama|Thriller</td>\n",
              "    </tr>\n",
              "  </tbody>\n",
              "</table>\n",
              "<p>3883 rows × 3 columns</p>\n",
              "</div>"
            ],
            "text/plain": [
              "         0                                   1                             2\n",
              "0        1                    Toy Story (1995)   Animation|Children's|Comedy\n",
              "1        2                      Jumanji (1995)  Adventure|Children's|Fantasy\n",
              "2        3             Grumpier Old Men (1995)                Comedy|Romance\n",
              "3        4            Waiting to Exhale (1995)                  Comedy|Drama\n",
              "4        5  Father of the Bride Part II (1995)                        Comedy\n",
              "...    ...                                 ...                           ...\n",
              "3878  3948             Meet the Parents (2000)                        Comedy\n",
              "3879  3949          Requiem for a Dream (2000)                         Drama\n",
              "3880  3950                    Tigerland (2000)                         Drama\n",
              "3881  3951             Two Family House (2000)                         Drama\n",
              "3882  3952               Contender, The (2000)                Drama|Thriller\n",
              "\n",
              "[3883 rows x 3 columns]"
            ]
          },
          "metadata": {
            "tags": []
          },
          "execution_count": 95
        }
      ]
    },
    {
      "cell_type": "markdown",
      "metadata": {
        "id": "1IPoY7tqj3h0"
      },
      "source": [
        "Preparing the Training set and Test"
      ]
    },
    {
      "cell_type": "code",
      "metadata": {
        "id": "4n2lv1V0jEHd"
      },
      "source": [
        "training_set = pd.read_csv(\"ml-100k/u1.base\", delimiter = \"\\t\")\n",
        "training_set = np.array(training_set, dtype = \"int\")\n",
        "test_set = pd.read_csv(\"ml-100k/u1.base\", delimiter = \"\\t\")\n",
        "test_set = np.array(test_set, dtype = \"int\")"
      ],
      "execution_count": 96,
      "outputs": []
    },
    {
      "cell_type": "code",
      "metadata": {
        "id": "GzLMFGOsozuE",
        "outputId": "3c87d12a-3b93-4e05-adcc-325b47333ec1",
        "colab": {
          "base_uri": "https://localhost:8080/"
        }
      },
      "source": [
        "training_set"
      ],
      "execution_count": 97,
      "outputs": [
        {
          "output_type": "execute_result",
          "data": {
            "text/plain": [
              "array([[        1,         2,         3, 876893171],\n",
              "       [        1,         3,         4, 878542960],\n",
              "       [        1,         4,         3, 876893119],\n",
              "       ...,\n",
              "       [      943,      1188,         3, 888640250],\n",
              "       [      943,      1228,         3, 888640275],\n",
              "       [      943,      1330,         3, 888692465]])"
            ]
          },
          "metadata": {
            "tags": []
          },
          "execution_count": 97
        }
      ]
    },
    {
      "cell_type": "code",
      "metadata": {
        "id": "YP8hxs4Aoz86",
        "outputId": "91d5346e-303e-4d36-91b4-7050f88553ab",
        "colab": {
          "base_uri": "https://localhost:8080/"
        }
      },
      "source": [
        "test_set"
      ],
      "execution_count": 98,
      "outputs": [
        {
          "output_type": "execute_result",
          "data": {
            "text/plain": [
              "array([[        1,         2,         3, 876893171],\n",
              "       [        1,         3,         4, 878542960],\n",
              "       [        1,         4,         3, 876893119],\n",
              "       ...,\n",
              "       [      943,      1188,         3, 888640250],\n",
              "       [      943,      1228,         3, 888640275],\n",
              "       [      943,      1330,         3, 888692465]])"
            ]
          },
          "metadata": {
            "tags": []
          },
          "execution_count": 98
        }
      ]
    },
    {
      "cell_type": "markdown",
      "metadata": {
        "id": "3W5td5QKl6TX"
      },
      "source": [
        "Getting the Mx number of users and movies"
      ]
    },
    {
      "cell_type": "code",
      "metadata": {
        "id": "5TcpXcw4lqAv"
      },
      "source": [
        "nb_users = int(max(max(training_set[:, 0], ), max(test_set[:, 0])))\n",
        "nb_movies = int(max(max(training_set[:, 1], ), max(test_set[:, 1])))"
      ],
      "execution_count": 99,
      "outputs": []
    },
    {
      "cell_type": "code",
      "metadata": {
        "id": "cgOytxD6pD0g",
        "outputId": "0ea0d2df-646a-42ad-fc36-a81d6859146a",
        "colab": {
          "base_uri": "https://localhost:8080/"
        }
      },
      "source": [
        "nb_of_users "
      ],
      "execution_count": 100,
      "outputs": [
        {
          "output_type": "execute_result",
          "data": {
            "text/plain": [
              "943"
            ]
          },
          "metadata": {
            "tags": []
          },
          "execution_count": 100
        }
      ]
    },
    {
      "cell_type": "code",
      "metadata": {
        "id": "nLChuRTbpD3h",
        "outputId": "ee63d2d8-5ed3-4f42-bc57-ce50c1359545",
        "colab": {
          "base_uri": "https://localhost:8080/"
        }
      },
      "source": [
        "nb_of_movies"
      ],
      "execution_count": 101,
      "outputs": [
        {
          "output_type": "execute_result",
          "data": {
            "text/plain": [
              "1682"
            ]
          },
          "metadata": {
            "tags": []
          },
          "execution_count": 101
        }
      ]
    },
    {
      "cell_type": "markdown",
      "metadata": {
        "id": "ycxkQcXDpXHN"
      },
      "source": [
        "Let Convert the dataset into an array with users in lines and movies in columns"
      ]
    },
    {
      "cell_type": "code",
      "metadata": {
        "id": "iUiQ1_IFnf2I"
      },
      "source": [
        "def convert(data):\n",
        "  new_data = []\n",
        "  for id_users in range(1, nb_users + 1):\n",
        "    id_movies = data[:, 1] [data[:, 0] == id_users]\n",
        "    id_ratings = data[:, 2] [data[:, 0] == id_users]\n",
        "    ratings = np.zeros(nb_movies)\n",
        "    ratings[id_movies - 1] = id_ratings\n",
        "    new_data.append(list(ratings))\n",
        "  return new_data\n",
        "training_set = convert(training_set)\n",
        "test_set = convert(test_set)\n"
      ],
      "execution_count": 102,
      "outputs": []
    },
    {
      "cell_type": "markdown",
      "metadata": {
        "id": "hRvaYxOCtu2l"
      },
      "source": [
        "Let Convert the data into torch tensors"
      ]
    },
    {
      "cell_type": "code",
      "metadata": {
        "id": "lGOkUBMhsv3v"
      },
      "source": [
        "training_set = torch.FloatTensor(training_set)\n",
        "test_set = torch.FloatTensor(test_set)"
      ],
      "execution_count": 103,
      "outputs": []
    },
    {
      "cell_type": "code",
      "metadata": {
        "id": "6BXyn8LsEx20",
        "outputId": "ad8c7edf-95fe-455b-8c4f-7df08093a5a1",
        "colab": {
          "base_uri": "https://localhost:8080/"
        }
      },
      "source": [
        "training_set"
      ],
      "execution_count": 104,
      "outputs": [
        {
          "output_type": "execute_result",
          "data": {
            "text/plain": [
              "tensor([[0., 3., 4.,  ..., 0., 0., 0.],\n",
              "        [4., 0., 0.,  ..., 0., 0., 0.],\n",
              "        [0., 0., 0.,  ..., 0., 0., 0.],\n",
              "        ...,\n",
              "        [5., 0., 0.,  ..., 0., 0., 0.],\n",
              "        [0., 0., 0.,  ..., 0., 0., 0.],\n",
              "        [0., 5., 0.,  ..., 0., 0., 0.]])"
            ]
          },
          "metadata": {
            "tags": []
          },
          "execution_count": 104
        }
      ]
    },
    {
      "cell_type": "code",
      "metadata": {
        "id": "hW6rH8mBE2cN",
        "outputId": "397fc53c-507e-4c3a-bd67-1e77d83edc2e",
        "colab": {
          "base_uri": "https://localhost:8080/"
        }
      },
      "source": [
        "test_set"
      ],
      "execution_count": 105,
      "outputs": [
        {
          "output_type": "execute_result",
          "data": {
            "text/plain": [
              "tensor([[0., 3., 4.,  ..., 0., 0., 0.],\n",
              "        [4., 0., 0.,  ..., 0., 0., 0.],\n",
              "        [0., 0., 0.,  ..., 0., 0., 0.],\n",
              "        ...,\n",
              "        [5., 0., 0.,  ..., 0., 0., 0.],\n",
              "        [0., 0., 0.,  ..., 0., 0., 0.],\n",
              "        [0., 5., 0.,  ..., 0., 0., 0.]])"
            ]
          },
          "metadata": {
            "tags": []
          },
          "execution_count": 105
        }
      ]
    },
    {
      "cell_type": "markdown",
      "metadata": {
        "id": "ttHeY__HuZv5"
      },
      "source": [
        "Let Creat the architecture of Neural Network"
      ]
    },
    {
      "cell_type": "code",
      "metadata": {
        "id": "TjxDLk7auRls"
      },
      "source": [
        "class SAE(nn.Module):\n",
        "    def __init__(self, ):\n",
        "        super(SAE, self).__init__()\n",
        "        self.fc1 = nn.Linear(nb_movies, 20)\n",
        "        self.fc2 = nn.Linear(20, 10)\n",
        "        self.fc3 = nn.Linear(10, 20)\n",
        "        self.fc4 = nn.Linear(20, nb_movies)\n",
        "        self.activation = nn.Sigmoid()\n",
        "    def forward(self, x):\n",
        "        x = self.activation(self.fc1(x))\n",
        "        x = self.activation(self.fc2(x))\n",
        "        x = self.activation(self.fc3(x))\n",
        "        x = self.fc4(x)\n",
        "        return x\n",
        "sae = SAE()\n",
        "criterion = nn.MSELoss()\n",
        "optimizer = optim.RMSprop(sae.parameters(), lr = 0.01, weight_decay = 0.5)"
      ],
      "execution_count": 106,
      "outputs": []
    },
    {
      "cell_type": "markdown",
      "metadata": {
        "id": "Bq-QgFTi2CJT"
      },
      "source": [
        "Let Train the SAE"
      ]
    },
    {
      "cell_type": "code",
      "metadata": {
        "id": "qQeQZjP0zkDD",
        "outputId": "14d81001-9c20-4a72-d0e4-974927d6b21d",
        "colab": {
          "base_uri": "https://localhost:8080/"
        }
      },
      "source": [
        "nb_epoch = 190\n",
        "for epoch in range(1, nb_epoch + 1):\n",
        "  train_loss = 0\n",
        "  s = 0.\n",
        "  for id_user in range(nb_users):\n",
        "    input = Variable(training_set[id_user]).unsqueeze(0)\n",
        "    target = input.clone()\n",
        "    if torch.sum(target.data > 0) > 0:\n",
        "      output = sae(input)\n",
        "      target.require_grad = False\n",
        "      output[target == 0] = 0\n",
        "      loss = criterion(output, target)\n",
        "      mean_corrector = nb_movies/float(torch.sum(target.data > 0) + 1e-10)\n",
        "      loss.backward()\n",
        "      train_loss += np.sqrt(loss.data*mean_corrector)\n",
        "      s += 1.\n",
        "      optimizer.step()\n",
        "  print('epoch: '+str(epoch)+'loss: '+ str(train_loss/s))"
      ],
      "execution_count": 107,
      "outputs": [
        {
          "output_type": "stream",
          "text": [
            "epoch: 1loss: tensor(1.7715)\n",
            "epoch: 2loss: tensor(1.0968)\n",
            "epoch: 3loss: tensor(1.0532)\n",
            "epoch: 4loss: tensor(1.0381)\n",
            "epoch: 5loss: tensor(1.0308)\n",
            "epoch: 6loss: tensor(1.0264)\n",
            "epoch: 7loss: tensor(1.0238)\n",
            "epoch: 8loss: tensor(1.0219)\n",
            "epoch: 9loss: tensor(1.0207)\n",
            "epoch: 10loss: tensor(1.0195)\n",
            "epoch: 11loss: tensor(1.0187)\n",
            "epoch: 12loss: tensor(1.0185)\n",
            "epoch: 13loss: tensor(1.0179)\n",
            "epoch: 14loss: tensor(1.0176)\n",
            "epoch: 15loss: tensor(1.0172)\n",
            "epoch: 16loss: tensor(1.0168)\n",
            "epoch: 17loss: tensor(1.0166)\n",
            "epoch: 18loss: tensor(1.0163)\n",
            "epoch: 19loss: tensor(1.0164)\n",
            "epoch: 20loss: tensor(1.0163)\n",
            "epoch: 21loss: tensor(1.0161)\n",
            "epoch: 22loss: tensor(1.0161)\n",
            "epoch: 23loss: tensor(1.0159)\n",
            "epoch: 24loss: tensor(1.0158)\n",
            "epoch: 25loss: tensor(1.0158)\n",
            "epoch: 26loss: tensor(1.0157)\n",
            "epoch: 27loss: tensor(1.0152)\n",
            "epoch: 28loss: tensor(1.0152)\n",
            "epoch: 29loss: tensor(1.0127)\n",
            "epoch: 30loss: tensor(1.0113)\n",
            "epoch: 31loss: tensor(1.0099)\n",
            "epoch: 32loss: tensor(1.0073)\n",
            "epoch: 33loss: tensor(1.0076)\n",
            "epoch: 34loss: tensor(1.0041)\n",
            "epoch: 35loss: tensor(1.0013)\n",
            "epoch: 36loss: tensor(0.9984)\n",
            "epoch: 37loss: tensor(0.9992)\n",
            "epoch: 38loss: tensor(0.9975)\n",
            "epoch: 39loss: tensor(0.9955)\n",
            "epoch: 40loss: tensor(0.9913)\n",
            "epoch: 41loss: tensor(0.9937)\n",
            "epoch: 42loss: tensor(0.9901)\n",
            "epoch: 43loss: tensor(0.9911)\n",
            "epoch: 44loss: tensor(0.9924)\n",
            "epoch: 45loss: tensor(0.9905)\n",
            "epoch: 46loss: tensor(0.9868)\n",
            "epoch: 47loss: tensor(0.9875)\n",
            "epoch: 48loss: tensor(0.9833)\n",
            "epoch: 49loss: tensor(0.9776)\n",
            "epoch: 50loss: tensor(0.9764)\n",
            "epoch: 51loss: tensor(0.9792)\n",
            "epoch: 52loss: tensor(0.9759)\n",
            "epoch: 53loss: tensor(0.9724)\n",
            "epoch: 54loss: tensor(0.9696)\n",
            "epoch: 55loss: tensor(0.9707)\n",
            "epoch: 56loss: tensor(0.9670)\n",
            "epoch: 57loss: tensor(0.9682)\n",
            "epoch: 58loss: tensor(0.9642)\n",
            "epoch: 59loss: tensor(0.9683)\n",
            "epoch: 60loss: tensor(0.9640)\n",
            "epoch: 61loss: tensor(0.9644)\n",
            "epoch: 62loss: tensor(0.9595)\n",
            "epoch: 63loss: tensor(0.9599)\n",
            "epoch: 64loss: tensor(0.9557)\n",
            "epoch: 65loss: tensor(0.9583)\n",
            "epoch: 66loss: tensor(0.9562)\n",
            "epoch: 67loss: tensor(0.9591)\n",
            "epoch: 68loss: tensor(0.9562)\n",
            "epoch: 69loss: tensor(0.9577)\n",
            "epoch: 70loss: tensor(0.9546)\n",
            "epoch: 71loss: tensor(0.9576)\n",
            "epoch: 72loss: tensor(0.9537)\n",
            "epoch: 73loss: tensor(0.9548)\n",
            "epoch: 74loss: tensor(0.9491)\n",
            "epoch: 75loss: tensor(0.9555)\n",
            "epoch: 76loss: tensor(0.9582)\n",
            "epoch: 77loss: tensor(0.9578)\n",
            "epoch: 78loss: tensor(0.9513)\n",
            "epoch: 79loss: tensor(0.9512)\n",
            "epoch: 80loss: tensor(0.9501)\n",
            "epoch: 81loss: tensor(0.9485)\n",
            "epoch: 82loss: tensor(0.9474)\n",
            "epoch: 83loss: tensor(0.9466)\n",
            "epoch: 84loss: tensor(0.9452)\n",
            "epoch: 85loss: tensor(0.9454)\n",
            "epoch: 86loss: tensor(0.9440)\n",
            "epoch: 87loss: tensor(0.9441)\n",
            "epoch: 88loss: tensor(0.9430)\n",
            "epoch: 89loss: tensor(0.9441)\n",
            "epoch: 90loss: tensor(0.9420)\n",
            "epoch: 91loss: tensor(0.9419)\n",
            "epoch: 92loss: tensor(0.9408)\n",
            "epoch: 93loss: tensor(0.9406)\n",
            "epoch: 94loss: tensor(0.9396)\n",
            "epoch: 95loss: tensor(0.9399)\n",
            "epoch: 96loss: tensor(0.9381)\n",
            "epoch: 97loss: tensor(0.9387)\n",
            "epoch: 98loss: tensor(0.9370)\n",
            "epoch: 99loss: tensor(0.9375)\n",
            "epoch: 100loss: tensor(0.9368)\n",
            "epoch: 101loss: tensor(0.9373)\n",
            "epoch: 102loss: tensor(0.9364)\n",
            "epoch: 103loss: tensor(0.9363)\n",
            "epoch: 104loss: tensor(0.9363)\n",
            "epoch: 105loss: tensor(0.9359)\n",
            "epoch: 106loss: tensor(0.9358)\n",
            "epoch: 107loss: tensor(0.9344)\n",
            "epoch: 108loss: tensor(0.9333)\n",
            "epoch: 109loss: tensor(0.9345)\n",
            "epoch: 110loss: tensor(0.9336)\n",
            "epoch: 111loss: tensor(0.9394)\n",
            "epoch: 112loss: tensor(0.9385)\n",
            "epoch: 113loss: tensor(0.9380)\n",
            "epoch: 114loss: tensor(0.9360)\n",
            "epoch: 115loss: tensor(0.9377)\n",
            "epoch: 116loss: tensor(0.9348)\n",
            "epoch: 117loss: tensor(0.9367)\n",
            "epoch: 118loss: tensor(0.9338)\n",
            "epoch: 119loss: tensor(0.9357)\n",
            "epoch: 120loss: tensor(0.9333)\n",
            "epoch: 121loss: tensor(0.9347)\n",
            "epoch: 122loss: tensor(0.9330)\n",
            "epoch: 123loss: tensor(0.9344)\n",
            "epoch: 124loss: tensor(0.9322)\n",
            "epoch: 125loss: tensor(0.9329)\n",
            "epoch: 126loss: tensor(0.9306)\n",
            "epoch: 127loss: tensor(0.9321)\n",
            "epoch: 128loss: tensor(0.9302)\n",
            "epoch: 129loss: tensor(0.9316)\n",
            "epoch: 130loss: tensor(0.9298)\n",
            "epoch: 131loss: tensor(0.9314)\n",
            "epoch: 132loss: tensor(0.9295)\n",
            "epoch: 133loss: tensor(0.9304)\n",
            "epoch: 134loss: tensor(0.9284)\n",
            "epoch: 135loss: tensor(0.9297)\n",
            "epoch: 136loss: tensor(0.9282)\n",
            "epoch: 137loss: tensor(0.9292)\n",
            "epoch: 138loss: tensor(0.9267)\n",
            "epoch: 139loss: tensor(0.9282)\n",
            "epoch: 140loss: tensor(0.9271)\n",
            "epoch: 141loss: tensor(0.9278)\n",
            "epoch: 142loss: tensor(0.9265)\n",
            "epoch: 143loss: tensor(0.9272)\n",
            "epoch: 144loss: tensor(0.9263)\n",
            "epoch: 145loss: tensor(0.9269)\n",
            "epoch: 146loss: tensor(0.9253)\n",
            "epoch: 147loss: tensor(0.9256)\n",
            "epoch: 148loss: tensor(0.9250)\n",
            "epoch: 149loss: tensor(0.9256)\n",
            "epoch: 150loss: tensor(0.9245)\n",
            "epoch: 151loss: tensor(0.9250)\n",
            "epoch: 152loss: tensor(0.9242)\n",
            "epoch: 153loss: tensor(0.9243)\n",
            "epoch: 154loss: tensor(0.9235)\n",
            "epoch: 155loss: tensor(0.9241)\n",
            "epoch: 156loss: tensor(0.9232)\n",
            "epoch: 157loss: tensor(0.9237)\n",
            "epoch: 158loss: tensor(0.9229)\n",
            "epoch: 159loss: tensor(0.9232)\n",
            "epoch: 160loss: tensor(0.9225)\n",
            "epoch: 161loss: tensor(0.9227)\n",
            "epoch: 162loss: tensor(0.9219)\n",
            "epoch: 163loss: tensor(0.9224)\n",
            "epoch: 164loss: tensor(0.9221)\n",
            "epoch: 165loss: tensor(0.9219)\n",
            "epoch: 166loss: tensor(0.9217)\n",
            "epoch: 167loss: tensor(0.9218)\n",
            "epoch: 168loss: tensor(0.9218)\n",
            "epoch: 169loss: tensor(0.9218)\n",
            "epoch: 170loss: tensor(0.9210)\n",
            "epoch: 171loss: tensor(0.9211)\n",
            "epoch: 172loss: tensor(0.9202)\n",
            "epoch: 173loss: tensor(0.9202)\n",
            "epoch: 174loss: tensor(0.9193)\n",
            "epoch: 175loss: tensor(0.9201)\n",
            "epoch: 176loss: tensor(0.9200)\n",
            "epoch: 177loss: tensor(0.9201)\n",
            "epoch: 178loss: tensor(0.9197)\n",
            "epoch: 179loss: tensor(0.9199)\n",
            "epoch: 180loss: tensor(0.9193)\n",
            "epoch: 181loss: tensor(0.9196)\n",
            "epoch: 182loss: tensor(0.9189)\n",
            "epoch: 183loss: tensor(0.9191)\n",
            "epoch: 184loss: tensor(0.9186)\n",
            "epoch: 185loss: tensor(0.9187)\n",
            "epoch: 186loss: tensor(0.9183)\n",
            "epoch: 187loss: tensor(0.9186)\n",
            "epoch: 188loss: tensor(0.9181)\n",
            "epoch: 189loss: tensor(0.9182)\n",
            "epoch: 190loss: tensor(0.9177)\n"
          ],
          "name": "stdout"
        }
      ]
    },
    {
      "cell_type": "markdown",
      "metadata": {
        "id": "swPTybY7GWQj"
      },
      "source": [
        "Training the test_set"
      ]
    },
    {
      "cell_type": "code",
      "metadata": {
        "id": "DQHAqLAaGam0",
        "outputId": "8f99790c-8778-47db-e8a9-86f3325605cf",
        "colab": {
          "base_uri": "https://localhost:8080/"
        }
      },
      "source": [
        "test_loss = 0\n",
        "s = 0.\n",
        "for id_user in range(nb_users):\n",
        "  input = Variable(training_set[id_user]).unsqueeze(0)\n",
        "  target = Variable(test_set[id_user]).unsqueeze(0)\n",
        "  if torch.sum(target.data > 0) > 0:\n",
        "      output = sae(input)\n",
        "      target.require_grad = False\n",
        "      output[target == 0] = 0\n",
        "      loss = criterion(output, target)\n",
        "      mean_corrector = nb_movies/float(torch.sum(target.data > 0) + 1e-10)\n",
        "      test_loss += np.sqrt(loss.data*mean_corrector)\n",
        "      s += 1.\n",
        "print(\"test_loss:\"+ str(test_loss/s))"
      ],
      "execution_count": 110,
      "outputs": [
        {
          "output_type": "stream",
          "text": [
            "test_loss:tensor(0.9183)\n"
          ],
          "name": "stdout"
        }
      ]
    }
  ]
}